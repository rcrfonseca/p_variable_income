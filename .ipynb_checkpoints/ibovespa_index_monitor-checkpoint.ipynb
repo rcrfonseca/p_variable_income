{
 "cells": [
  {
   "cell_type": "markdown",
   "metadata": {},
   "source": [
    "# Create Questions!\n",
    "1. Ibovespa Index by year, months and days, grouped\n",
    "1. Ibovespa index by days of year, weeks of year, days of week, compared by each year\n",
    "1. Correlate Ibovespa Index with volume and quotes period"
   ]
  },
  {
   "cell_type": "code",
   "execution_count": 36,
   "metadata": {},
   "outputs": [],
   "source": [
    "import pandas as pd\n",
    "import numpy as np\n",
    "import seaborn as sns\n",
    "from pandas.plotting import register_matplotlib_converters\n",
    "register_matplotlib_converters()\n",
    "import plotly.express as px\n",
    "%matplotlib inline\n",
    "%config IPCompleter.greedy=True"
   ]
  },
  {
   "cell_type": "code",
   "execution_count": 38,
   "metadata": {},
   "outputs": [],
   "source": [
    "data_ibov = pd.read_csv('./data/investing-indice-bovespa-2000-2019.csv')\n",
    "data_ibov=data_ibov.melt(id_vars={\"Data\",\"Vol.\",\"Var%\"},var_name=\"quote_period\",value_name=\"index_bov\")\n",
    "data_ibov.rename(columns={\"Vol.\":\"volume\",\"Data\":\"date\",\"Var%\":\"perc_variation\"},inplace=True)\n",
    "data_ibov = data_ibov[[\"date\",\"index_bov\",\"quote_period\",\"volume\",\"perc_variation\"]]\n",
    "df_ibov = pd.DataFrame(data_ibov)\n",
    "df_ibov[\"perc_variation\"]=df_ibov[\"perc_variation\"].str.replace(\"%\",\"\")\n",
    "df_ibov[\"date\"] = pd.to_datetime(df_ibov[\"date\"])\n",
    "df_ibov[\"index_bov\"]=df_ibov[\"index_bov\"].str.replace(\",\",\"\")\n",
    "df_ibov[\"index_bov\"]=pd.to_numeric(df_ibov[\"index_bov\"])"
   ]
  },
  {
   "cell_type": "code",
   "execution_count": 39,
   "metadata": {},
   "outputs": [
    {
     "data": {
      "text/html": [
       "<div>\n",
       "<style scoped>\n",
       "    .dataframe tbody tr th:only-of-type {\n",
       "        vertical-align: middle;\n",
       "    }\n",
       "\n",
       "    .dataframe tbody tr th {\n",
       "        vertical-align: top;\n",
       "    }\n",
       "\n",
       "    .dataframe thead th {\n",
       "        text-align: right;\n",
       "    }\n",
       "</style>\n",
       "<table border=\"1\" class=\"dataframe\">\n",
       "  <thead>\n",
       "    <tr style=\"text-align: right;\">\n",
       "      <th></th>\n",
       "      <th>date</th>\n",
       "      <th>index_bov</th>\n",
       "      <th>quote_period</th>\n",
       "      <th>volume</th>\n",
       "      <th>perc_variation</th>\n",
       "    </tr>\n",
       "  </thead>\n",
       "  <tbody>\n",
       "    <tr>\n",
       "      <th>0</th>\n",
       "      <td>2019-09-16</td>\n",
       "      <td>103.68041</td>\n",
       "      <td>Último</td>\n",
       "      <td>6,04M</td>\n",
       "      <td>0,17</td>\n",
       "    </tr>\n",
       "    <tr>\n",
       "      <th>1</th>\n",
       "      <td>2019-09-13</td>\n",
       "      <td>103.50118</td>\n",
       "      <td>Último</td>\n",
       "      <td>4,04M</td>\n",
       "      <td>-0,83</td>\n",
       "    </tr>\n",
       "    <tr>\n",
       "      <th>2</th>\n",
       "      <td>2019-12-09</td>\n",
       "      <td>104.37091</td>\n",
       "      <td>Último</td>\n",
       "      <td>4,96M</td>\n",
       "      <td>0,89</td>\n",
       "    </tr>\n",
       "    <tr>\n",
       "      <th>3</th>\n",
       "      <td>2019-11-09</td>\n",
       "      <td>103.44560</td>\n",
       "      <td>Último</td>\n",
       "      <td>4,88M</td>\n",
       "      <td>0,40</td>\n",
       "    </tr>\n",
       "    <tr>\n",
       "      <th>4</th>\n",
       "      <td>2019-10-09</td>\n",
       "      <td>103.03150</td>\n",
       "      <td>Último</td>\n",
       "      <td>5,48M</td>\n",
       "      <td>-0,14</td>\n",
       "    </tr>\n",
       "  </tbody>\n",
       "</table>\n",
       "</div>"
      ],
      "text/plain": [
       "        date  index_bov quote_period volume perc_variation\n",
       "0 2019-09-16  103.68041       Último  6,04M           0,17\n",
       "1 2019-09-13  103.50118       Último  4,04M          -0,83\n",
       "2 2019-12-09  104.37091       Último  4,96M           0,89\n",
       "3 2019-11-09  103.44560       Último  4,88M           0,40\n",
       "4 2019-10-09  103.03150       Último  5,48M          -0,14"
      ]
     },
     "execution_count": 39,
     "metadata": {},
     "output_type": "execute_result"
    }
   ],
   "source": [
    "df_ibov.head()"
   ]
  },
  {
   "cell_type": "code",
   "execution_count": 40,
   "metadata": {},
   "outputs": [],
   "source": [
    "year_month_2019_08 = (df_ibov.date.dt.year==2019)&(df_ibov.date.dt.month==8)\n",
    "df_ibov_gp_year_month_2019_08 = df_ibov[year_month_2019_08]\n",
    "df_ibov_gp_year_month_2019_08 = df_ibov_gp_year_month_2019_08.sort_values(by=\"date\",ascending=True)"
   ]
  },
  {
   "cell_type": "code",
   "execution_count": 5,
   "metadata": {},
   "outputs": [
    {
     "data": {
      "text/plain": [
       "Text(0.5,1,'Ibovespa Index in August 2019')"
      ]
     },
     "execution_count": 5,
     "metadata": {},
     "output_type": "execute_result"
    },
    {
     "data": {
      "image/png": "[encoded data removed]",
      "text/plain": [
       "<Figure size 799.875x360 with 1 Axes>"
      ]
     },
     "metadata": {},
     "output_type": "display_data"
    }
   ],
   "source": [
    "viz_1 = sns.catplot(x=\"date\",\n",
    "                    y=\"index_bov\",\n",
    "                    aspect=2.0,\n",
    "                    height=5,\n",
    "                    hue=\"quote_period\",\n",
    "                    data=df_ibov_gp_year_month_2019_08)\n",
    "viz_1.set_axis_labels(\"Comercial Days\",\"Ibovespa Index\")\n",
    "viz_1.set_xticklabels(df_ibov_gp_year_month_2019_08.date.dt.day.unique())\n",
    "viz_1.ax.set_title(\"Ibovespa Index in August 2019\")"
   ]
  },
  {
   "cell_type": "code",
   "execution_count": 33,
   "metadata": {},
   "outputs": [
    {
     "data": {
      "text/plain": [
       "Text(0.5,1,'Ibovespa Index in August 2019')"
      ]
     },
     "execution_count": 33,
     "metadata": {},
     "output_type": "execute_result"
    },
    {
     "data": {
      "image/png": "[encoded data removed]",
      "text/plain": [
       "<Figure size 432x288 with 1 Axes>"
      ]
     },
     "metadata": {},
     "output_type": "display_data"
    }
   ],
   "source": [
    "viz_1_1 = sns.lineplot(x=\"date\",\n",
    "                    y=\"index_bov\",\n",
    "                    hue=\"quote_period\",\n",
    "                       dashes=True,\n",
    "                       markers=True,\n",
    "                       hue_order=(\"Abertura\",\"Último\",\"Mínima\",\"Máxima\"),\n",
    "                    data=df_ibov_gp_year_month_2019_08)\n",
    "viz_1_1.xaxis.set_label_text(\"Comercial Days\")\n",
    "viz_1_1.yaxis.set_label_text(\"Ibovespa Index (x1000)\")\n",
    "viz_1_1.legend(df_ibov_gp_year_month_2019_08.quote_period.unique())\n",
    "viz_1_1.set_xticklabels(df_ibov_gp_year_month_2019_08.date.dt.day.unique())\n",
    "viz_1_1.set_title(\"Ibovespa Index in August 2019\")"
   ]
  },
  {
   "cell_type": "code",
   "execution_count": 106,
   "metadata": {},
   "outputs": [
    {
     "data": {
      "application/vnd.plotly.v1+json": {
       "config": {
        "plotlyServerURL": "https://plot.ly"
       },
       "data": [
        {
         "customdata": [
          [
           "2019-08-01T00:00:00",
           91.69905
          ],
          [
           "2019-08-02T00:00:00",
           94.40126
          ],
          [
           "2019-08-03T00:00:00",
           94.34017
          ],
          [
           "2019-08-04T00:00:00",
           97.11005
          ],
          [
           "2019-08-05T00:00:00",
           94.38856
          ],
          [
           "2019-08-07T00:00:00",
           104.09014
          ],
          [
           "2019-08-08T00:00:00",
           102.78237
          ],
          [
           "2019-08-13T00:00:00",
           101.91215
          ],
          [
           "2019-08-14T00:00:00",
           103.27008000000001
          ],
          [
           "2019-08-15T00:00:00",
           100.26203000000001
          ],
          [
           "2019-08-16T00:00:00",
           99.05912
          ],
          [
           "2019-08-19T00:00:00",
           99.80951999999999
          ],
          [
           "2019-08-20T00:00:00",
           99.47193
          ],
          [
           "2019-08-21T00:00:00",
           99.22712
          ],
          [
           "2019-08-22T00:00:00",
           101.20902
          ],
          [
           "2019-08-23T00:00:00",
           100.00725
          ],
          [
           "2019-08-26T00:00:00",
           97.68654000000001
          ],
          [
           "2019-08-27T00:00:00",
           96.4343
          ],
          [
           "2019-08-28T00:00:00",
           97.27335
          ],
          [
           "2019-08-29T00:00:00",
           98.19411
          ],
          [
           "2019-08-30T00:00:00",
           100.52627
          ]
         ],
         "hoverlabel": {
          "namelength": 0
         },
         "hovertemplate": "<b>%{hovertext}</b><br><br>Período=Abertura<br>Comercial Days=%{customdata[0]}<br>Ibovespa Index (x1000)=%{customdata[1]}",
         "hovertext": [
          "Abertura",
          "Abertura",
          "Abertura",
          "Abertura",
          "Abertura",
          "Abertura",
          "Abertura",
          "Abertura",
          "Abertura",
          "Abertura",
          "Abertura",
          "Abertura",
          "Abertura",
          "Abertura",
          "Abertura",
          "Abertura",
          "Abertura",
          "Abertura",
          "Abertura",
          "Abertura",
          "Abertura"
         ],
         "legendgroup": "Período=Abertura",
         "line": {
          "color": "#636efa",
          "dash": "solid"
         },
         "mode": "lines",
         "name": "Período=Abertura",
         "showlegend": true,
         "type": "scatter",
         "x": [
          "2019-08-01T00:00:00",
          "2019-08-02T00:00:00",
          "2019-08-03T00:00:00",
          "2019-08-04T00:00:00",
          "2019-08-05T00:00:00",
          "2019-08-07T00:00:00",
          "2019-08-08T00:00:00",
          "2019-08-13T00:00:00",
          "2019-08-14T00:00:00",
          "2019-08-15T00:00:00",
          "2019-08-16T00:00:00",
          "2019-08-19T00:00:00",
          "2019-08-20T00:00:00",
          "2019-08-21T00:00:00",
          "2019-08-22T00:00:00",
          "2019-08-23T00:00:00",
          "2019-08-26T00:00:00",
          "2019-08-27T00:00:00",
          "2019-08-28T00:00:00",
          "2019-08-29T00:00:00",
          "2019-08-30T00:00:00"
         ],
         "xaxis": "x",
         "y": [
          91.69905,
          94.40126,
          94.34017,
          97.11005,
          94.38856,
          104.09014,
          102.78237,
          101.91215,
          103.27008000000001,
          100.26203000000001,
          99.05912,
          99.80951999999999,
          99.47193,
          99.22712,
          101.20902,
          100.00725,
          97.68654000000001,
          96.4343,
          97.27335,
          98.19411,
          100.52627
         ],
         "yaxis": "y"
        },
        {
         "customdata": [
          [
           "2019-08-01T00:00:00",
           92.23099
          ],
          [
           "2019-08-02T00:00:00",
           95.48559
          ],
          [
           "2019-08-03T00:00:00",
           95.47568000000001
          ],
          [
           "2019-08-04T00:00:00",
           97.61025
          ],
          [
           "2019-08-05T00:00:00",
           96.31189
          ],
          [
           "2019-08-07T00:00:00",
           104.6793
          ],
          [
           "2019-08-08T00:00:00",
           104.28189
          ],
          [
           "2019-08-13T00:00:00",
           103.77821999999999
          ],
          [
           "2019-08-14T00:00:00",
           103.27008000000001
          ],
          [
           "2019-08-15T00:00:00",
           101.01441
          ],
          [
           "2019-08-16T00:00:00",
           100.56693
          ],
          [
           "2019-08-19T00:00:00",
           100.9476
          ],
          [
           "2019-08-20T00:00:00",
           99.66475
          ],
          [
           "2019-08-21T00:00:00",
           101.24013000000001
          ],
          [
           "2019-08-22T00:00:00",
           101.46905
          ],
          [
           "2019-08-23T00:00:00",
           100.02483000000001
          ],
          [
           "2019-08-26T00:00:00",
           98.43596
          ],
          [
           "2019-08-27T00:00:00",
           97.95098
          ],
          [
           "2019-08-28T00:00:00",
           98.34603
          ],
          [
           "2019-08-29T00:00:00",
           100.68387
          ],
          [
           "2019-08-30T00:00:00",
           101.55135
          ]
         ],
         "hoverlabel": {
          "namelength": 0
         },
         "hovertemplate": "<b>%{hovertext}</b><br><br>Período=Máxima<br>Comercial Days=%{customdata[0]}<br>Ibovespa Index (x1000)=%{customdata[1]}",
         "hovertext": [
          "Máxima",
          "Máxima",
          "Máxima",
          "Máxima",
          "Máxima",
          "Máxima",
          "Máxima",
          "Máxima",
          "Máxima",
          "Máxima",
          "Máxima",
          "Máxima",
          "Máxima",
          "Máxima",
          "Máxima",
          "Máxima",
          "Máxima",
          "Máxima",
          "Máxima",
          "Máxima",
          "Máxima"
         ],
         "legendgroup": "Período=Máxima",
         "line": {
          "color": "#EF553B",
          "dash": "solid"
         },
         "mode": "lines",
         "name": "Período=Máxima",
         "showlegend": true,
         "type": "scatter",
         "x": [
          "2019-08-01T00:00:00",
          "2019-08-02T00:00:00",
          "2019-08-03T00:00:00",
          "2019-08-04T00:00:00",
          "2019-08-05T00:00:00",
          "2019-08-07T00:00:00",
          "2019-08-08T00:00:00",
          "2019-08-13T00:00:00",
          "2019-08-14T00:00:00",
          "2019-08-15T00:00:00",
          "2019-08-16T00:00:00",
          "2019-08-19T00:00:00",
          "2019-08-20T00:00:00",
          "2019-08-21T00:00:00",
          "2019-08-22T00:00:00",
          "2019-08-23T00:00:00",
          "2019-08-26T00:00:00",
          "2019-08-27T00:00:00",
          "2019-08-28T00:00:00",
          "2019-08-29T00:00:00",
          "2019-08-30T00:00:00"
         ],
         "xaxis": "x",
         "y": [
          92.23099,
          95.48559,
          95.47568000000001,
          97.61025,
          96.31189,
          104.6793,
          104.28189,
          103.77821999999999,
          103.27008000000001,
          101.01441,
          100.56693,
          100.9476,
          99.66475,
          101.24013000000001,
          101.46905,
          100.02483000000001,
          98.43596,
          97.95098,
          98.34603,
          100.68387,
          101.55135
         ],
         "yaxis": "y"
        },
        {
         "customdata": [
          [
           "2019-08-01T00:00:00",
           92.03186
          ],
          [
           "2019-08-02T00:00:00",
           95.3431
          ],
          [
           "2019-08-03T00:00:00",
           95.36485
          ],
          [
           "2019-08-04T00:00:00",
           97.36929
          ],
          [
           "2019-08-05T00:00:00",
           95.59661
          ],
          [
           "2019-08-07T00:00:00",
           104.53022
          ],
          [
           "2019-08-08T00:00:00",
           104.11523000000001
          ],
          [
           "2019-08-13T00:00:00",
           103.29947
          ],
          [
           "2019-08-14T00:00:00",
           100.25801
          ],
          [
           "2019-08-15T00:00:00",
           99.05691
          ],
          [
           "2019-08-16T00:00:00",
           99.80578
          ],
          [
           "2019-08-19T00:00:00",
           99.46866999999999
          ],
          [
           "2019-08-20T00:00:00",
           99.22225
          ],
          [
           "2019-08-21T00:00:00",
           101.2019
          ],
          [
           "2019-08-22T00:00:00",
           100.01128
          ],
          [
           "2019-08-23T00:00:00",
           97.66749
          ],
          [
           "2019-08-26T00:00:00",
           96.4296
          ],
          [
           "2019-08-27T00:00:00",
           97.27619
          ],
          [
           "2019-08-28T00:00:00",
           98.19353000000001
          ],
          [
           "2019-08-29T00:00:00",
           100.52443000000001
          ],
          [
           "2019-08-30T00:00:00",
           101.13461
          ]
         ],
         "hoverlabel": {
          "namelength": 0
         },
         "hovertemplate": "<b>%{hovertext}</b><br><br>Período=Último<br>Comercial Days=%{customdata[0]}<br>Ibovespa Index (x1000)=%{customdata[1]}",
         "hovertext": [
          "Último",
          "Último",
          "Último",
          "Último",
          "Último",
          "Último",
          "Último",
          "Último",
          "Último",
          "Último",
          "Último",
          "Último",
          "Último",
          "Último",
          "Último",
          "Último",
          "Último",
          "Último",
          "Último",
          "Último",
          "Último"
         ],
         "legendgroup": "Período=Último",
         "line": {
          "color": "#00cc96",
          "dash": "solid"
         },
         "mode": "lines",
         "name": "Período=Último",
         "showlegend": true,
         "type": "scatter",
         "x": [
          "2019-08-01T00:00:00",
          "2019-08-02T00:00:00",
          "2019-08-03T00:00:00",
          "2019-08-04T00:00:00",
          "2019-08-05T00:00:00",
          "2019-08-07T00:00:00",
          "2019-08-08T00:00:00",
          "2019-08-13T00:00:00",
          "2019-08-14T00:00:00",
          "2019-08-15T00:00:00",
          "2019-08-16T00:00:00",
          "2019-08-19T00:00:00",
          "2019-08-20T00:00:00",
          "2019-08-21T00:00:00",
          "2019-08-22T00:00:00",
          "2019-08-23T00:00:00",
          "2019-08-26T00:00:00",
          "2019-08-27T00:00:00",
          "2019-08-28T00:00:00",
          "2019-08-29T00:00:00",
          "2019-08-30T00:00:00"
         ],
         "xaxis": "x",
         "y": [
          92.03186,
          95.3431,
          95.36485,
          97.36929,
          95.59661,
          104.53022,
          104.11523000000001,
          103.29947,
          100.25801,
          99.05691,
          99.80578,
          99.46866999999999,
          99.22225,
          101.2019,
          100.01128,
          97.66749,
          96.4296,
          97.27619,
          98.19353000000001,
          100.52443000000001,
          101.13461
         ],
         "yaxis": "y"
        },
        {
         "customdata": [
          [
           "2019-08-01T00:00:00",
           91.0639
          ],
          [
           "2019-08-02T00:00:00",
           93.42429
          ],
          [
           "2019-08-03T00:00:00",
           93.30476
          ],
          [
           "2019-08-04T00:00:00",
           96.74291
          ],
          [
           "2019-08-05T00:00:00",
           94.38856
          ],
          [
           "2019-08-07T00:00:00",
           103.98799
          ],
          [
           "2019-08-08T00:00:00",
           102.78237
          ],
          [
           "2019-08-13T00:00:00",
           101.41444
          ],
          [
           "2019-08-14T00:00:00",
           99.95475
          ],
          [
           "2019-08-15T00:00:00",
           98.20036
          ],
          [
           "2019-08-16T00:00:00",
           99.05912
          ],
          [
           "2019-08-19T00:00:00",
           98.90819
          ],
          [
           "2019-08-20T00:00:00",
           98.00203
          ],
          [
           "2019-08-21T00:00:00",
           99.22126999999999
          ],
          [
           "2019-08-22T00:00:00",
           100.01128
          ],
          [
           "2019-08-23T00:00:00",
           97.08521
          ],
          [
           "2019-08-26T00:00:00",
           95.96074
          ],
          [
           "2019-08-27T00:00:00",
           95.8553
          ],
          [
           "2019-08-28T00:00:00",
           96.55705999999999
          ],
          [
           "2019-08-29T00:00:00",
           98.19411
          ],
          [
           "2019-08-30T00:00:00",
           100.52627
          ]
         ],
         "hoverlabel": {
          "namelength": 0
         },
         "hovertemplate": "<b>%{hovertext}</b><br><br>Período=Mínima<br>Comercial Days=%{customdata[0]}<br>Ibovespa Index (x1000)=%{customdata[1]}",
         "hovertext": [
          "Mínima",
          "Mínima",
          "Mínima",
          "Mínima",
          "Mínima",
          "Mínima",
          "Mínima",
          "Mínima",
          "Mínima",
          "Mínima",
          "Mínima",
          "Mínima",
          "Mínima",
          "Mínima",
          "Mínima",
          "Mínima",
          "Mínima",
          "Mínima",
          "Mínima",
          "Mínima",
          "Mínima"
         ],
         "legendgroup": "Período=Mínima",
         "line": {
          "color": "#ab63fa",
          "dash": "solid"
         },
         "mode": "lines",
         "name": "Período=Mínima",
         "showlegend": true,
         "type": "scatter",
         "x": [
          "2019-08-01T00:00:00",
          "2019-08-02T00:00:00",
          "2019-08-03T00:00:00",
          "2019-08-04T00:00:00",
          "2019-08-05T00:00:00",
          "2019-08-07T00:00:00",
          "2019-08-08T00:00:00",
          "2019-08-13T00:00:00",
          "2019-08-14T00:00:00",
          "2019-08-15T00:00:00",
          "2019-08-16T00:00:00",
          "2019-08-19T00:00:00",
          "2019-08-20T00:00:00",
          "2019-08-21T00:00:00",
          "2019-08-22T00:00:00",
          "2019-08-23T00:00:00",
          "2019-08-26T00:00:00",
          "2019-08-27T00:00:00",
          "2019-08-28T00:00:00",
          "2019-08-29T00:00:00",
          "2019-08-30T00:00:00"
         ],
         "xaxis": "x",
         "y": [
          91.0639,
          93.42429,
          93.30476,
          96.74291,
          94.38856,
          103.98799,
          102.78237,
          101.41444,
          99.95475,
          98.20036,
          99.05912,
          98.90819,
          98.00203,
          99.22126999999999,
          100.01128,
          97.08521,
          95.96074,
          95.8553,
          96.55705999999999,
          98.19411,
          100.52627
         ],
         "yaxis": "y"
        }
       ],
       "layout": {
        "height": 600,
        "hovermode": "x",
        "legend": {
         "tracegroupgap": 0
        },
        "template": {
         "data": {
          "bar": [
           {
            "error_x": {
             "color": "#2a3f5f"
            },
            "error_y": {
             "color": "#2a3f5f"
            },
            "marker": {
             "line": {
              "color": "#E5ECF6",
              "width": 0.5
             }
            },
            "type": "bar"
           }
          ],
          "barpolar": [
           {
            "marker": {
             "line": {
              "color": "#E5ECF6",
              "width": 0.5
             }
            },
            "type": "barpolar"
           }
          ],
          "carpet": [
           {
            "aaxis": {
             "endlinecolor": "#2a3f5f",
             "gridcolor": "white",
             "linecolor": "white",
             "minorgridcolor": "white",
             "startlinecolor": "#2a3f5f"
            },
            "baxis": {
             "endlinecolor": "#2a3f5f",
             "gridcolor": "white",
             "linecolor": "white",
             "minorgridcolor": "white",
             "startlinecolor": "#2a3f5f"
            },
            "type": "carpet"
           }
          ],
          "choropleth": [
           {
            "colorbar": {
             "outlinewidth": 0,
             "ticks": ""
            },
            "type": "choropleth"
           }
          ],
          "contour": [
           {
            "colorbar": {
             "outlinewidth": 0,
             "ticks": ""
            },
            "colorscale": [
             [
              0,
              "#0d0887"
             ],
             [
              0.1111111111111111,
              "#46039f"
             ],
             [
              0.2222222222222222,
              "#7201a8"
             ],
             [
              0.3333333333333333,
              "#9c179e"
             ],
             [
              0.4444444444444444,
              "#bd3786"
             ],
             [
              0.5555555555555556,
              "#d8576b"
             ],
             [
              0.6666666666666666,
              "#ed7953"
             ],
             [
              0.7777777777777778,
              "#fb9f3a"
             ],
             [
              0.8888888888888888,
              "#fdca26"
             ],
             [
              1,
              "#f0f921"
             ]
            ],
            "type": "contour"
           }
          ],
          "contourcarpet": [
           {
            "colorbar": {
             "outlinewidth": 0,
             "ticks": ""
            },
            "type": "contourcarpet"
           }
          ],
          "heatmap": [
           {
            "colorbar": {
             "outlinewidth": 0,
             "ticks": ""
            },
            "colorscale": [
             [
              0,
              "#0d0887"
             ],
             [
              0.1111111111111111,
              "#46039f"
             ],
             [
              0.2222222222222222,
              "#7201a8"
             ],
             [
              0.3333333333333333,
              "#9c179e"
             ],
             [
              0.4444444444444444,
              "#bd3786"
             ],
             [
              0.5555555555555556,
              "#d8576b"
             ],
             [
              0.6666666666666666,
              "#ed7953"
             ],
             [
              0.7777777777777778,
              "#fb9f3a"
             ],
             [
              0.8888888888888888,
              "#fdca26"
             ],
             [
              1,
              "#f0f921"
             ]
            ],
            "type": "heatmap"
           }
          ],
          "heatmapgl": [
           {
            "colorbar": {
             "outlinewidth": 0,
             "ticks": ""
            },
            "colorscale": [
             [
              0,
              "#0d0887"
             ],
             [
              0.1111111111111111,
              "#46039f"
             ],
             [
              0.2222222222222222,
              "#7201a8"
             ],
             [
              0.3333333333333333,
              "#9c179e"
             ],
             [
              0.4444444444444444,
              "#bd3786"
             ],
             [
              0.5555555555555556,
              "#d8576b"
             ],
             [
              0.6666666666666666,
              "#ed7953"
             ],
             [
              0.7777777777777778,
              "#fb9f3a"
             ],
             [
              0.8888888888888888,
              "#fdca26"
             ],
             [
              1,
              "#f0f921"
             ]
            ],
            "type": "heatmapgl"
           }
          ],
          "histogram": [
           {
            "marker": {
             "colorbar": {
              "outlinewidth": 0,
              "ticks": ""
             }
            },
            "type": "histogram"
           }
          ],
          "histogram2d": [
           {
            "colorbar": {
             "outlinewidth": 0,
             "ticks": ""
            },
            "colorscale": [
             [
              0,
              "#0d0887"
             ],
             [
              0.1111111111111111,
              "#46039f"
             ],
             [
              0.2222222222222222,
              "#7201a8"
             ],
             [
              0.3333333333333333,
              "#9c179e"
             ],
             [
              0.4444444444444444,
              "#bd3786"
             ],
             [
              0.5555555555555556,
              "#d8576b"
             ],
             [
              0.6666666666666666,
              "#ed7953"
             ],
             [
              0.7777777777777778,
              "#fb9f3a"
             ],
             [
              0.8888888888888888,
              "#fdca26"
             ],
             [
              1,
              "#f0f921"
             ]
            ],
            "type": "histogram2d"
           }
          ],
          "histogram2dcontour": [
           {
            "colorbar": {
             "outlinewidth": 0,
             "ticks": ""
            },
            "colorscale": [
             [
              0,
              "#0d0887"
             ],
             [
              0.1111111111111111,
              "#46039f"
             ],
             [
              0.2222222222222222,
              "#7201a8"
             ],
             [
              0.3333333333333333,
              "#9c179e"
             ],
             [
              0.4444444444444444,
              "#bd3786"
             ],
             [
              0.5555555555555556,
              "#d8576b"
             ],
             [
              0.6666666666666666,
              "#ed7953"
             ],
             [
              0.7777777777777778,
              "#fb9f3a"
             ],
             [
              0.8888888888888888,
              "#fdca26"
             ],
             [
              1,
              "#f0f921"
             ]
            ],
            "type": "histogram2dcontour"
           }
          ],
          "mesh3d": [
           {
            "colorbar": {
             "outlinewidth": 0,
             "ticks": ""
            },
            "type": "mesh3d"
           }
          ],
          "parcoords": [
           {
            "line": {
             "colorbar": {
              "outlinewidth": 0,
              "ticks": ""
             }
            },
            "type": "parcoords"
           }
          ],
          "scatter": [
           {
            "marker": {
             "colorbar": {
              "outlinewidth": 0,
              "ticks": ""
             }
            },
            "type": "scatter"
           }
          ],
          "scatter3d": [
           {
            "line": {
             "colorbar": {
              "outlinewidth": 0,
              "ticks": ""
             }
            },
            "marker": {
             "colorbar": {
              "outlinewidth": 0,
              "ticks": ""
             }
            },
            "type": "scatter3d"
           }
          ],
          "scattercarpet": [
           {
            "marker": {
             "colorbar": {
              "outlinewidth": 0,
              "ticks": ""
             }
            },
            "type": "scattercarpet"
           }
          ],
          "scattergeo": [
           {
            "marker": {
             "colorbar": {
              "outlinewidth": 0,
              "ticks": ""
             }
            },
            "type": "scattergeo"
           }
          ],
          "scattergl": [
           {
            "marker": {
             "colorbar": {
              "outlinewidth": 0,
              "ticks": ""
             }
            },
            "type": "scattergl"
           }
          ],
          "scattermapbox": [
           {
            "marker": {
             "colorbar": {
              "outlinewidth": 0,
              "ticks": ""
             }
            },
            "type": "scattermapbox"
           }
          ],
          "scatterpolar": [
           {
            "marker": {
             "colorbar": {
              "outlinewidth": 0,
              "ticks": ""
             }
            },
            "type": "scatterpolar"
           }
          ],
          "scatterpolargl": [
           {
            "marker": {
             "colorbar": {
              "outlinewidth": 0,
              "ticks": ""
             }
            },
            "type": "scatterpolargl"
           }
          ],
          "scatterternary": [
           {
            "marker": {
             "colorbar": {
              "outlinewidth": 0,
              "ticks": ""
             }
            },
            "type": "scatterternary"
           }
          ],
          "surface": [
           {
            "colorbar": {
             "outlinewidth": 0,
             "ticks": ""
            },
            "colorscale": [
             [
              0,
              "#0d0887"
             ],
             [
              0.1111111111111111,
              "#46039f"
             ],
             [
              0.2222222222222222,
              "#7201a8"
             ],
             [
              0.3333333333333333,
              "#9c179e"
             ],
             [
              0.4444444444444444,
              "#bd3786"
             ],
             [
              0.5555555555555556,
              "#d8576b"
             ],
             [
              0.6666666666666666,
              "#ed7953"
             ],
             [
              0.7777777777777778,
              "#fb9f3a"
             ],
             [
              0.8888888888888888,
              "#fdca26"
             ],
             [
              1,
              "#f0f921"
             ]
            ],
            "type": "surface"
           }
          ],
          "table": [
           {
            "cells": {
             "fill": {
              "color": "#EBF0F8"
             },
             "line": {
              "color": "white"
             }
            },
            "header": {
             "fill": {
              "color": "#C8D4E3"
             },
             "line": {
              "color": "white"
             }
            },
            "type": "table"
           }
          ]
         },
         "layout": {
          "annotationdefaults": {
           "arrowcolor": "#2a3f5f",
           "arrowhead": 0,
           "arrowwidth": 1
          },
          "colorscale": {
           "diverging": [
            [
             0,
             "#8e0152"
            ],
            [
             0.1,
             "#c51b7d"
            ],
            [
             0.2,
             "#de77ae"
            ],
            [
             0.3,
             "#f1b6da"
            ],
            [
             0.4,
             "#fde0ef"
            ],
            [
             0.5,
             "#f7f7f7"
            ],
            [
             0.6,
             "#e6f5d0"
            ],
            [
             0.7,
             "#b8e186"
            ],
            [
             0.8,
             "#7fbc41"
            ],
            [
             0.9,
             "#4d9221"
            ],
            [
             1,
             "#276419"
            ]
           ],
           "sequential": [
            [
             0,
             "#0d0887"
            ],
            [
             0.1111111111111111,
             "#46039f"
            ],
            [
             0.2222222222222222,
             "#7201a8"
            ],
            [
             0.3333333333333333,
             "#9c179e"
            ],
            [
             0.4444444444444444,
             "#bd3786"
            ],
            [
             0.5555555555555556,
             "#d8576b"
            ],
            [
             0.6666666666666666,
             "#ed7953"
            ],
            [
             0.7777777777777778,
             "#fb9f3a"
            ],
            [
             0.8888888888888888,
             "#fdca26"
            ],
            [
             1,
             "#f0f921"
            ]
           ],
           "sequentialminus": [
            [
             0,
             "#0d0887"
            ],
            [
             0.1111111111111111,
             "#46039f"
            ],
            [
             0.2222222222222222,
             "#7201a8"
            ],
            [
             0.3333333333333333,
             "#9c179e"
            ],
            [
             0.4444444444444444,
             "#bd3786"
            ],
            [
             0.5555555555555556,
             "#d8576b"
            ],
            [
             0.6666666666666666,
             "#ed7953"
            ],
            [
             0.7777777777777778,
             "#fb9f3a"
            ],
            [
             0.8888888888888888,
             "#fdca26"
            ],
            [
             1,
             "#f0f921"
            ]
           ]
          },
          "colorway": [
           "#636efa",
           "#EF553B",
           "#00cc96",
           "#ab63fa",
           "#FFA15A",
           "#19d3f3",
           "#FF6692",
           "#B6E880",
           "#FF97FF",
           "#FECB52"
          ],
          "font": {
           "color": "#2a3f5f"
          },
          "geo": {
           "bgcolor": "white",
           "lakecolor": "white",
           "landcolor": "#E5ECF6",
           "showlakes": true,
           "showland": true,
           "subunitcolor": "white"
          },
          "hoverlabel": {
           "align": "left"
          },
          "hovermode": "closest",
          "mapbox": {
           "style": "light"
          },
          "paper_bgcolor": "white",
          "plot_bgcolor": "#E5ECF6",
          "polar": {
           "angularaxis": {
            "gridcolor": "white",
            "linecolor": "white",
            "ticks": ""
           },
           "bgcolor": "#E5ECF6",
           "radialaxis": {
            "gridcolor": "white",
            "linecolor": "white",
            "ticks": ""
           }
          },
          "scene": {
           "xaxis": {
            "backgroundcolor": "#E5ECF6",
            "gridcolor": "white",
            "gridwidth": 2,
            "linecolor": "white",
            "showbackground": true,
            "ticks": "",
            "zerolinecolor": "white"
           },
           "yaxis": {
            "backgroundcolor": "#E5ECF6",
            "gridcolor": "white",
            "gridwidth": 2,
            "linecolor": "white",
            "showbackground": true,
            "ticks": "",
            "zerolinecolor": "white"
           },
           "zaxis": {
            "backgroundcolor": "#E5ECF6",
            "gridcolor": "white",
            "gridwidth": 2,
            "linecolor": "white",
            "showbackground": true,
            "ticks": "",
            "zerolinecolor": "white"
           }
          },
          "shapedefaults": {
           "line": {
            "color": "#2a3f5f"
           }
          },
          "ternary": {
           "aaxis": {
            "gridcolor": "white",
            "linecolor": "white",
            "ticks": ""
           },
           "baxis": {
            "gridcolor": "white",
            "linecolor": "white",
            "ticks": ""
           },
           "bgcolor": "#E5ECF6",
           "caxis": {
            "gridcolor": "white",
            "linecolor": "white",
            "ticks": ""
           }
          },
          "title": {
           "x": 0.05
          },
          "xaxis": {
           "automargin": true,
           "gridcolor": "white",
           "linecolor": "white",
           "ticks": "",
           "zerolinecolor": "white",
           "zerolinewidth": 2
          },
          "yaxis": {
           "automargin": true,
           "gridcolor": "white",
           "linecolor": "white",
           "ticks": "",
           "zerolinecolor": "white",
           "zerolinewidth": 2
          }
         }
        },
        "title": {
         "text": "<b>Ibovespa Index in August 2019</b>"
        },
        "xaxis": {
         "anchor": "y",
         "domain": [
          0,
          0.98
         ],
         "title": {
          "text": "Comercial Days"
         }
        },
        "yaxis": {
         "anchor": "x",
         "domain": [
          0,
          1
         ],
         "title": {
          "text": "Ibovespa Index (x1000)"
         }
        }
       }
      },
      "text/html": [
       "<div>\n",
       "        \n",
       "        \n",
       "            <div id=\"4ce93b70-0ed2-4e95-b7b8-1470038d803f\" class=\"plotly-graph-div\" style=\"height:600px; width:100%;\"></div>\n",
       "            <script type=\"text/javascript\">\n",
       "                require([\"plotly\"], function(Plotly) {\n",
       "                    window.PLOTLYENV=window.PLOTLYENV || {};\n",
       "                    \n",
       "                if (document.getElementById(\"4ce93b70-0ed2-4e95-b7b8-1470038d803f\")) {\n",
       "                    Plotly.newPlot(\n",
       "                        '4ce93b70-0ed2-4e95-b7b8-1470038d803f',\n",
       "                        [{\"customdata\": [[\"2019-08-01T00:00:00\", 91.69905], [\"2019-08-02T00:00:00\", 94.40126], [\"2019-08-03T00:00:00\", 94.34017], [\"2019-08-04T00:00:00\", 97.11005], [\"2019-08-05T00:00:00\", 94.38856], [\"2019-08-07T00:00:00\", 104.09014], [\"2019-08-08T00:00:00\", 102.78237], [\"2019-08-13T00:00:00\", 101.91215], [\"2019-08-14T00:00:00\", 103.27008000000001], [\"2019-08-15T00:00:00\", 100.26203000000001], [\"2019-08-16T00:00:00\", 99.05912], [\"2019-08-19T00:00:00\", 99.80951999999999], [\"2019-08-20T00:00:00\", 99.47193], [\"2019-08-21T00:00:00\", 99.22712], [\"2019-08-22T00:00:00\", 101.20902], [\"2019-08-23T00:00:00\", 100.00725], [\"2019-08-26T00:00:00\", 97.68654000000001], [\"2019-08-27T00:00:00\", 96.4343], [\"2019-08-28T00:00:00\", 97.27335], [\"2019-08-29T00:00:00\", 98.19411], [\"2019-08-30T00:00:00\", 100.52627]], \"hoverlabel\": {\"namelength\": 0}, \"hovertemplate\": \"<b>%{hovertext}</b><br><br>Per\\u00edodo=Abertura<br>Comercial Days=%{customdata[0]}<br>Ibovespa Index (x1000)=%{customdata[1]}\", \"hovertext\": [\"Abertura\", \"Abertura\", \"Abertura\", \"Abertura\", \"Abertura\", \"Abertura\", \"Abertura\", \"Abertura\", \"Abertura\", \"Abertura\", \"Abertura\", \"Abertura\", \"Abertura\", \"Abertura\", \"Abertura\", \"Abertura\", \"Abertura\", \"Abertura\", \"Abertura\", \"Abertura\", \"Abertura\"], \"legendgroup\": \"Per\\u00edodo=Abertura\", \"line\": {\"color\": \"#636efa\", \"dash\": \"solid\"}, \"mode\": \"lines\", \"name\": \"Per\\u00edodo=Abertura\", \"showlegend\": true, \"type\": \"scatter\", \"x\": [\"2019-08-01T00:00:00\", \"2019-08-02T00:00:00\", \"2019-08-03T00:00:00\", \"2019-08-04T00:00:00\", \"2019-08-05T00:00:00\", \"2019-08-07T00:00:00\", \"2019-08-08T00:00:00\", \"2019-08-13T00:00:00\", \"2019-08-14T00:00:00\", \"2019-08-15T00:00:00\", \"2019-08-16T00:00:00\", \"2019-08-19T00:00:00\", \"2019-08-20T00:00:00\", \"2019-08-21T00:00:00\", \"2019-08-22T00:00:00\", \"2019-08-23T00:00:00\", \"2019-08-26T00:00:00\", \"2019-08-27T00:00:00\", \"2019-08-28T00:00:00\", \"2019-08-29T00:00:00\", \"2019-08-30T00:00:00\"], \"xaxis\": \"x\", \"y\": [91.69905, 94.40126, 94.34017, 97.11005, 94.38856, 104.09014, 102.78237, 101.91215, 103.27008000000001, 100.26203000000001, 99.05912, 99.80951999999999, 99.47193, 99.22712, 101.20902, 100.00725, 97.68654000000001, 96.4343, 97.27335, 98.19411, 100.52627], \"yaxis\": \"y\"}, {\"customdata\": [[\"2019-08-01T00:00:00\", 92.23099], [\"2019-08-02T00:00:00\", 95.48559], [\"2019-08-03T00:00:00\", 95.47568000000001], [\"2019-08-04T00:00:00\", 97.61025], [\"2019-08-05T00:00:00\", 96.31189], [\"2019-08-07T00:00:00\", 104.6793], [\"2019-08-08T00:00:00\", 104.28189], [\"2019-08-13T00:00:00\", 103.77821999999999], [\"2019-08-14T00:00:00\", 103.27008000000001], [\"2019-08-15T00:00:00\", 101.01441], [\"2019-08-16T00:00:00\", 100.56693], [\"2019-08-19T00:00:00\", 100.9476], [\"2019-08-20T00:00:00\", 99.66475], [\"2019-08-21T00:00:00\", 101.24013000000001], [\"2019-08-22T00:00:00\", 101.46905], [\"2019-08-23T00:00:00\", 100.02483000000001], [\"2019-08-26T00:00:00\", 98.43596], [\"2019-08-27T00:00:00\", 97.95098], [\"2019-08-28T00:00:00\", 98.34603], [\"2019-08-29T00:00:00\", 100.68387], [\"2019-08-30T00:00:00\", 101.55135]], \"hoverlabel\": {\"namelength\": 0}, \"hovertemplate\": \"<b>%{hovertext}</b><br><br>Per\\u00edodo=M\\u00e1xima<br>Comercial Days=%{customdata[0]}<br>Ibovespa Index (x1000)=%{customdata[1]}\", \"hovertext\": [\"M\\u00e1xima\", \"M\\u00e1xima\", \"M\\u00e1xima\", \"M\\u00e1xima\", \"M\\u00e1xima\", \"M\\u00e1xima\", \"M\\u00e1xima\", \"M\\u00e1xima\", \"M\\u00e1xima\", \"M\\u00e1xima\", \"M\\u00e1xima\", \"M\\u00e1xima\", \"M\\u00e1xima\", \"M\\u00e1xima\", \"M\\u00e1xima\", \"M\\u00e1xima\", \"M\\u00e1xima\", \"M\\u00e1xima\", \"M\\u00e1xima\", \"M\\u00e1xima\", \"M\\u00e1xima\"], \"legendgroup\": \"Per\\u00edodo=M\\u00e1xima\", \"line\": {\"color\": \"#EF553B\", \"dash\": \"solid\"}, \"mode\": \"lines\", \"name\": \"Per\\u00edodo=M\\u00e1xima\", \"showlegend\": true, \"type\": \"scatter\", \"x\": [\"2019-08-01T00:00:00\", \"2019-08-02T00:00:00\", \"2019-08-03T00:00:00\", \"2019-08-04T00:00:00\", \"2019-08-05T00:00:00\", \"2019-08-07T00:00:00\", \"2019-08-08T00:00:00\", \"2019-08-13T00:00:00\", \"2019-08-14T00:00:00\", \"2019-08-15T00:00:00\", \"2019-08-16T00:00:00\", \"2019-08-19T00:00:00\", \"2019-08-20T00:00:00\", \"2019-08-21T00:00:00\", \"2019-08-22T00:00:00\", \"2019-08-23T00:00:00\", \"2019-08-26T00:00:00\", \"2019-08-27T00:00:00\", \"2019-08-28T00:00:00\", \"2019-08-29T00:00:00\", \"2019-08-30T00:00:00\"], \"xaxis\": \"x\", \"y\": [92.23099, 95.48559, 95.47568000000001, 97.61025, 96.31189, 104.6793, 104.28189, 103.77821999999999, 103.27008000000001, 101.01441, 100.56693, 100.9476, 99.66475, 101.24013000000001, 101.46905, 100.02483000000001, 98.43596, 97.95098, 98.34603, 100.68387, 101.55135], \"yaxis\": \"y\"}, {\"customdata\": [[\"2019-08-01T00:00:00\", 92.03186], [\"2019-08-02T00:00:00\", 95.3431], [\"2019-08-03T00:00:00\", 95.36485], [\"2019-08-04T00:00:00\", 97.36929], [\"2019-08-05T00:00:00\", 95.59661], [\"2019-08-07T00:00:00\", 104.53022], [\"2019-08-08T00:00:00\", 104.11523000000001], [\"2019-08-13T00:00:00\", 103.29947], [\"2019-08-14T00:00:00\", 100.25801], [\"2019-08-15T00:00:00\", 99.05691], [\"2019-08-16T00:00:00\", 99.80578], [\"2019-08-19T00:00:00\", 99.46866999999999], [\"2019-08-20T00:00:00\", 99.22225], [\"2019-08-21T00:00:00\", 101.2019], [\"2019-08-22T00:00:00\", 100.01128], [\"2019-08-23T00:00:00\", 97.66749], [\"2019-08-26T00:00:00\", 96.4296], [\"2019-08-27T00:00:00\", 97.27619], [\"2019-08-28T00:00:00\", 98.19353000000001], [\"2019-08-29T00:00:00\", 100.52443000000001], [\"2019-08-30T00:00:00\", 101.13461]], \"hoverlabel\": {\"namelength\": 0}, \"hovertemplate\": \"<b>%{hovertext}</b><br><br>Per\\u00edodo=\\u00daltimo<br>Comercial Days=%{customdata[0]}<br>Ibovespa Index (x1000)=%{customdata[1]}\", \"hovertext\": [\"\\u00daltimo\", \"\\u00daltimo\", \"\\u00daltimo\", \"\\u00daltimo\", \"\\u00daltimo\", \"\\u00daltimo\", \"\\u00daltimo\", \"\\u00daltimo\", \"\\u00daltimo\", \"\\u00daltimo\", \"\\u00daltimo\", \"\\u00daltimo\", \"\\u00daltimo\", \"\\u00daltimo\", \"\\u00daltimo\", \"\\u00daltimo\", \"\\u00daltimo\", \"\\u00daltimo\", \"\\u00daltimo\", \"\\u00daltimo\", \"\\u00daltimo\"], \"legendgroup\": \"Per\\u00edodo=\\u00daltimo\", \"line\": {\"color\": \"#00cc96\", \"dash\": \"solid\"}, \"mode\": \"lines\", \"name\": \"Per\\u00edodo=\\u00daltimo\", \"showlegend\": true, \"type\": \"scatter\", \"x\": [\"2019-08-01T00:00:00\", \"2019-08-02T00:00:00\", \"2019-08-03T00:00:00\", \"2019-08-04T00:00:00\", \"2019-08-05T00:00:00\", \"2019-08-07T00:00:00\", \"2019-08-08T00:00:00\", \"2019-08-13T00:00:00\", \"2019-08-14T00:00:00\", \"2019-08-15T00:00:00\", \"2019-08-16T00:00:00\", \"2019-08-19T00:00:00\", \"2019-08-20T00:00:00\", \"2019-08-21T00:00:00\", \"2019-08-22T00:00:00\", \"2019-08-23T00:00:00\", \"2019-08-26T00:00:00\", \"2019-08-27T00:00:00\", \"2019-08-28T00:00:00\", \"2019-08-29T00:00:00\", \"2019-08-30T00:00:00\"], \"xaxis\": \"x\", \"y\": [92.03186, 95.3431, 95.36485, 97.36929, 95.59661, 104.53022, 104.11523000000001, 103.29947, 100.25801, 99.05691, 99.80578, 99.46866999999999, 99.22225, 101.2019, 100.01128, 97.66749, 96.4296, 97.27619, 98.19353000000001, 100.52443000000001, 101.13461], \"yaxis\": \"y\"}, {\"customdata\": [[\"2019-08-01T00:00:00\", 91.0639], [\"2019-08-02T00:00:00\", 93.42429], [\"2019-08-03T00:00:00\", 93.30476], [\"2019-08-04T00:00:00\", 96.74291], [\"2019-08-05T00:00:00\", 94.38856], [\"2019-08-07T00:00:00\", 103.98799], [\"2019-08-08T00:00:00\", 102.78237], [\"2019-08-13T00:00:00\", 101.41444], [\"2019-08-14T00:00:00\", 99.95475], [\"2019-08-15T00:00:00\", 98.20036], [\"2019-08-16T00:00:00\", 99.05912], [\"2019-08-19T00:00:00\", 98.90819], [\"2019-08-20T00:00:00\", 98.00203], [\"2019-08-21T00:00:00\", 99.22126999999999], [\"2019-08-22T00:00:00\", 100.01128], [\"2019-08-23T00:00:00\", 97.08521], [\"2019-08-26T00:00:00\", 95.96074], [\"2019-08-27T00:00:00\", 95.8553], [\"2019-08-28T00:00:00\", 96.55705999999999], [\"2019-08-29T00:00:00\", 98.19411], [\"2019-08-30T00:00:00\", 100.52627]], \"hoverlabel\": {\"namelength\": 0}, \"hovertemplate\": \"<b>%{hovertext}</b><br><br>Per\\u00edodo=M\\u00ednima<br>Comercial Days=%{customdata[0]}<br>Ibovespa Index (x1000)=%{customdata[1]}\", \"hovertext\": [\"M\\u00ednima\", \"M\\u00ednima\", \"M\\u00ednima\", \"M\\u00ednima\", \"M\\u00ednima\", \"M\\u00ednima\", \"M\\u00ednima\", \"M\\u00ednima\", \"M\\u00ednima\", \"M\\u00ednima\", \"M\\u00ednima\", \"M\\u00ednima\", \"M\\u00ednima\", \"M\\u00ednima\", \"M\\u00ednima\", \"M\\u00ednima\", \"M\\u00ednima\", \"M\\u00ednima\", \"M\\u00ednima\", \"M\\u00ednima\", \"M\\u00ednima\"], \"legendgroup\": \"Per\\u00edodo=M\\u00ednima\", \"line\": {\"color\": \"#ab63fa\", \"dash\": \"solid\"}, \"mode\": \"lines\", \"name\": \"Per\\u00edodo=M\\u00ednima\", \"showlegend\": true, \"type\": \"scatter\", \"x\": [\"2019-08-01T00:00:00\", \"2019-08-02T00:00:00\", \"2019-08-03T00:00:00\", \"2019-08-04T00:00:00\", \"2019-08-05T00:00:00\", \"2019-08-07T00:00:00\", \"2019-08-08T00:00:00\", \"2019-08-13T00:00:00\", \"2019-08-14T00:00:00\", \"2019-08-15T00:00:00\", \"2019-08-16T00:00:00\", \"2019-08-19T00:00:00\", \"2019-08-20T00:00:00\", \"2019-08-21T00:00:00\", \"2019-08-22T00:00:00\", \"2019-08-23T00:00:00\", \"2019-08-26T00:00:00\", \"2019-08-27T00:00:00\", \"2019-08-28T00:00:00\", \"2019-08-29T00:00:00\", \"2019-08-30T00:00:00\"], \"xaxis\": \"x\", \"y\": [91.0639, 93.42429, 93.30476, 96.74291, 94.38856, 103.98799, 102.78237, 101.41444, 99.95475, 98.20036, 99.05912, 98.90819, 98.00203, 99.22126999999999, 100.01128, 97.08521, 95.96074, 95.8553, 96.55705999999999, 98.19411, 100.52627], \"yaxis\": \"y\"}],\n",
       "                        {\"height\": 600, \"hovermode\": \"x\", \"legend\": {\"tracegroupgap\": 0}, \"template\": {\"data\": {\"bar\": [{\"error_x\": {\"color\": \"#2a3f5f\"}, \"error_y\": {\"color\": \"#2a3f5f\"}, \"marker\": {\"line\": {\"color\": \"#E5ECF6\", \"width\": 0.5}}, \"type\": \"bar\"}], \"barpolar\": [{\"marker\": {\"line\": {\"color\": \"#E5ECF6\", \"width\": 0.5}}, \"type\": \"barpolar\"}], \"carpet\": [{\"aaxis\": {\"endlinecolor\": \"#2a3f5f\", \"gridcolor\": \"white\", \"linecolor\": \"white\", \"minorgridcolor\": \"white\", \"startlinecolor\": \"#2a3f5f\"}, \"baxis\": {\"endlinecolor\": \"#2a3f5f\", \"gridcolor\": \"white\", \"linecolor\": \"white\", \"minorgridcolor\": \"white\", \"startlinecolor\": \"#2a3f5f\"}, \"type\": \"carpet\"}], \"choropleth\": [{\"colorbar\": {\"outlinewidth\": 0, \"ticks\": \"\"}, \"type\": \"choropleth\"}], \"contour\": [{\"colorbar\": {\"outlinewidth\": 0, \"ticks\": \"\"}, \"colorscale\": [[0.0, \"#0d0887\"], [0.1111111111111111, \"#46039f\"], [0.2222222222222222, \"#7201a8\"], [0.3333333333333333, \"#9c179e\"], [0.4444444444444444, \"#bd3786\"], [0.5555555555555556, \"#d8576b\"], [0.6666666666666666, \"#ed7953\"], [0.7777777777777778, \"#fb9f3a\"], [0.8888888888888888, \"#fdca26\"], [1.0, \"#f0f921\"]], \"type\": \"contour\"}], \"contourcarpet\": [{\"colorbar\": {\"outlinewidth\": 0, \"ticks\": \"\"}, \"type\": \"contourcarpet\"}], \"heatmap\": [{\"colorbar\": {\"outlinewidth\": 0, \"ticks\": \"\"}, \"colorscale\": [[0.0, \"#0d0887\"], [0.1111111111111111, \"#46039f\"], [0.2222222222222222, \"#7201a8\"], [0.3333333333333333, \"#9c179e\"], [0.4444444444444444, \"#bd3786\"], [0.5555555555555556, \"#d8576b\"], [0.6666666666666666, \"#ed7953\"], [0.7777777777777778, \"#fb9f3a\"], [0.8888888888888888, \"#fdca26\"], [1.0, \"#f0f921\"]], \"type\": \"heatmap\"}], \"heatmapgl\": [{\"colorbar\": {\"outlinewidth\": 0, \"ticks\": \"\"}, \"colorscale\": [[0.0, \"#0d0887\"], [0.1111111111111111, \"#46039f\"], [0.2222222222222222, \"#7201a8\"], [0.3333333333333333, \"#9c179e\"], [0.4444444444444444, \"#bd3786\"], [0.5555555555555556, \"#d8576b\"], [0.6666666666666666, \"#ed7953\"], [0.7777777777777778, \"#fb9f3a\"], [0.8888888888888888, \"#fdca26\"], [1.0, \"#f0f921\"]], \"type\": \"heatmapgl\"}], \"histogram\": [{\"marker\": {\"colorbar\": {\"outlinewidth\": 0, \"ticks\": \"\"}}, \"type\": \"histogram\"}], \"histogram2d\": [{\"colorbar\": {\"outlinewidth\": 0, \"ticks\": \"\"}, \"colorscale\": [[0.0, \"#0d0887\"], [0.1111111111111111, \"#46039f\"], [0.2222222222222222, \"#7201a8\"], [0.3333333333333333, \"#9c179e\"], [0.4444444444444444, \"#bd3786\"], [0.5555555555555556, \"#d8576b\"], [0.6666666666666666, \"#ed7953\"], [0.7777777777777778, \"#fb9f3a\"], [0.8888888888888888, \"#fdca26\"], [1.0, \"#f0f921\"]], \"type\": \"histogram2d\"}], \"histogram2dcontour\": [{\"colorbar\": {\"outlinewidth\": 0, \"ticks\": \"\"}, \"colorscale\": [[0.0, \"#0d0887\"], [0.1111111111111111, \"#46039f\"], [0.2222222222222222, \"#7201a8\"], [0.3333333333333333, \"#9c179e\"], [0.4444444444444444, \"#bd3786\"], [0.5555555555555556, \"#d8576b\"], [0.6666666666666666, \"#ed7953\"], [0.7777777777777778, \"#fb9f3a\"], [0.8888888888888888, \"#fdca26\"], [1.0, \"#f0f921\"]], \"type\": \"histogram2dcontour\"}], \"mesh3d\": [{\"colorbar\": {\"outlinewidth\": 0, \"ticks\": \"\"}, \"type\": \"mesh3d\"}], \"parcoords\": [{\"line\": {\"colorbar\": {\"outlinewidth\": 0, \"ticks\": \"\"}}, \"type\": \"parcoords\"}], \"scatter\": [{\"marker\": {\"colorbar\": {\"outlinewidth\": 0, \"ticks\": \"\"}}, \"type\": \"scatter\"}], \"scatter3d\": [{\"line\": {\"colorbar\": {\"outlinewidth\": 0, \"ticks\": \"\"}}, \"marker\": {\"colorbar\": {\"outlinewidth\": 0, \"ticks\": \"\"}}, \"type\": \"scatter3d\"}], \"scattercarpet\": [{\"marker\": {\"colorbar\": {\"outlinewidth\": 0, \"ticks\": \"\"}}, \"type\": \"scattercarpet\"}], \"scattergeo\": [{\"marker\": {\"colorbar\": {\"outlinewidth\": 0, \"ticks\": \"\"}}, \"type\": \"scattergeo\"}], \"scattergl\": [{\"marker\": {\"colorbar\": {\"outlinewidth\": 0, \"ticks\": \"\"}}, \"type\": \"scattergl\"}], \"scattermapbox\": [{\"marker\": {\"colorbar\": {\"outlinewidth\": 0, \"ticks\": \"\"}}, \"type\": \"scattermapbox\"}], \"scatterpolar\": [{\"marker\": {\"colorbar\": {\"outlinewidth\": 0, \"ticks\": \"\"}}, \"type\": \"scatterpolar\"}], \"scatterpolargl\": [{\"marker\": {\"colorbar\": {\"outlinewidth\": 0, \"ticks\": \"\"}}, \"type\": \"scatterpolargl\"}], \"scatterternary\": [{\"marker\": {\"colorbar\": {\"outlinewidth\": 0, \"ticks\": \"\"}}, \"type\": \"scatterternary\"}], \"surface\": [{\"colorbar\": {\"outlinewidth\": 0, \"ticks\": \"\"}, \"colorscale\": [[0.0, \"#0d0887\"], [0.1111111111111111, \"#46039f\"], [0.2222222222222222, \"#7201a8\"], [0.3333333333333333, \"#9c179e\"], [0.4444444444444444, \"#bd3786\"], [0.5555555555555556, \"#d8576b\"], [0.6666666666666666, \"#ed7953\"], [0.7777777777777778, \"#fb9f3a\"], [0.8888888888888888, \"#fdca26\"], [1.0, \"#f0f921\"]], \"type\": \"surface\"}], \"table\": [{\"cells\": {\"fill\": {\"color\": \"#EBF0F8\"}, \"line\": {\"color\": \"white\"}}, \"header\": {\"fill\": {\"color\": \"#C8D4E3\"}, \"line\": {\"color\": \"white\"}}, \"type\": \"table\"}]}, \"layout\": {\"annotationdefaults\": {\"arrowcolor\": \"#2a3f5f\", \"arrowhead\": 0, \"arrowwidth\": 1}, \"colorscale\": {\"diverging\": [[0, \"#8e0152\"], [0.1, \"#c51b7d\"], [0.2, \"#de77ae\"], [0.3, \"#f1b6da\"], [0.4, \"#fde0ef\"], [0.5, \"#f7f7f7\"], [0.6, \"#e6f5d0\"], [0.7, \"#b8e186\"], [0.8, \"#7fbc41\"], [0.9, \"#4d9221\"], [1, \"#276419\"]], \"sequential\": [[0.0, \"#0d0887\"], [0.1111111111111111, \"#46039f\"], [0.2222222222222222, \"#7201a8\"], [0.3333333333333333, \"#9c179e\"], [0.4444444444444444, \"#bd3786\"], [0.5555555555555556, \"#d8576b\"], [0.6666666666666666, \"#ed7953\"], [0.7777777777777778, \"#fb9f3a\"], [0.8888888888888888, \"#fdca26\"], [1.0, \"#f0f921\"]], \"sequentialminus\": [[0.0, \"#0d0887\"], [0.1111111111111111, \"#46039f\"], [0.2222222222222222, \"#7201a8\"], [0.3333333333333333, \"#9c179e\"], [0.4444444444444444, \"#bd3786\"], [0.5555555555555556, \"#d8576b\"], [0.6666666666666666, \"#ed7953\"], [0.7777777777777778, \"#fb9f3a\"], [0.8888888888888888, \"#fdca26\"], [1.0, \"#f0f921\"]]}, \"colorway\": [\"#636efa\", \"#EF553B\", \"#00cc96\", \"#ab63fa\", \"#FFA15A\", \"#19d3f3\", \"#FF6692\", \"#B6E880\", \"#FF97FF\", \"#FECB52\"], \"font\": {\"color\": \"#2a3f5f\"}, \"geo\": {\"bgcolor\": \"white\", \"lakecolor\": \"white\", \"landcolor\": \"#E5ECF6\", \"showlakes\": true, \"showland\": true, \"subunitcolor\": \"white\"}, \"hoverlabel\": {\"align\": \"left\"}, \"hovermode\": \"closest\", \"mapbox\": {\"style\": \"light\"}, \"paper_bgcolor\": \"white\", \"plot_bgcolor\": \"#E5ECF6\", \"polar\": {\"angularaxis\": {\"gridcolor\": \"white\", \"linecolor\": \"white\", \"ticks\": \"\"}, \"bgcolor\": \"#E5ECF6\", \"radialaxis\": {\"gridcolor\": \"white\", \"linecolor\": \"white\", \"ticks\": \"\"}}, \"scene\": {\"xaxis\": {\"backgroundcolor\": \"#E5ECF6\", \"gridcolor\": \"white\", \"gridwidth\": 2, \"linecolor\": \"white\", \"showbackground\": true, \"ticks\": \"\", \"zerolinecolor\": \"white\"}, \"yaxis\": {\"backgroundcolor\": \"#E5ECF6\", \"gridcolor\": \"white\", \"gridwidth\": 2, \"linecolor\": \"white\", \"showbackground\": true, \"ticks\": \"\", \"zerolinecolor\": \"white\"}, \"zaxis\": {\"backgroundcolor\": \"#E5ECF6\", \"gridcolor\": \"white\", \"gridwidth\": 2, \"linecolor\": \"white\", \"showbackground\": true, \"ticks\": \"\", \"zerolinecolor\": \"white\"}}, \"shapedefaults\": {\"line\": {\"color\": \"#2a3f5f\"}}, \"ternary\": {\"aaxis\": {\"gridcolor\": \"white\", \"linecolor\": \"white\", \"ticks\": \"\"}, \"baxis\": {\"gridcolor\": \"white\", \"linecolor\": \"white\", \"ticks\": \"\"}, \"bgcolor\": \"#E5ECF6\", \"caxis\": {\"gridcolor\": \"white\", \"linecolor\": \"white\", \"ticks\": \"\"}}, \"title\": {\"x\": 0.05}, \"xaxis\": {\"automargin\": true, \"gridcolor\": \"white\", \"linecolor\": \"white\", \"ticks\": \"\", \"zerolinecolor\": \"white\", \"zerolinewidth\": 2}, \"yaxis\": {\"automargin\": true, \"gridcolor\": \"white\", \"linecolor\": \"white\", \"ticks\": \"\", \"zerolinecolor\": \"white\", \"zerolinewidth\": 2}}}, \"title\": {\"text\": \"<b>Ibovespa Index in August 2019</b>\"}, \"xaxis\": {\"anchor\": \"y\", \"domain\": [0.0, 0.98], \"title\": {\"text\": \"Comercial Days\"}}, \"yaxis\": {\"anchor\": \"x\", \"domain\": [0.0, 1.0], \"title\": {\"text\": \"Ibovespa Index (x1000)\"}}},\n",
       "                        {\"responsive\": true}\n",
       "                    ).then(function(){\n",
       "                            \n",
       "var gd = document.getElementById('4ce93b70-0ed2-4e95-b7b8-1470038d803f');\n",
       "var x = new MutationObserver(function (mutations, observer) {{\n",
       "        var display = window.getComputedStyle(gd).display;\n",
       "        if (!display || display === 'none') {{\n",
       "            console.log([gd, 'removed!']);\n",
       "            Plotly.purge(gd);\n",
       "            observer.disconnect();\n",
       "        }}\n",
       "}});\n",
       "\n",
       "// Listen for the removal of the full notebook cells\n",
       "var notebookContainer = gd.closest('#notebook-container');\n",
       "if (notebookContainer) {{\n",
       "    x.observe(notebookContainer, {childList: true});\n",
       "}}\n",
       "\n",
       "// Listen for the clearing of the current output cell\n",
       "var outputEl = gd.closest('.output');\n",
       "if (outputEl) {{\n",
       "    x.observe(outputEl, {childList: true});\n",
       "}}\n",
       "\n",
       "                        })\n",
       "                };\n",
       "                });\n",
       "            </script>\n",
       "        </div>"
      ]
     },
     "metadata": {},
     "output_type": "display_data"
    }
   ],
   "source": [
    "fig = px.line(df_ibov_gp_year_month_2019_08, \n",
    "              x=\"date\", \n",
    "              y=\"index_bov\", \n",
    "              color='quote_period',\n",
    "              hover_name='quote_period',\n",
    "              hover_data=['date','index_bov'],\n",
    "              labels={\"date\":\"Comercial Days\",\"index_bov\":\"Ibovespa Index (x1000)\",\"quote_period\":\"Período\"},\n",
    "             title=\"<b>Ibovespa Index in August 2019</b>\")\n",
    "fig.update_layout(hovermode = 'x')\n",
    "fig.show()"
   ]
  },
  {
   "cell_type": "code",
   "execution_count": 8,
   "metadata": {},
   "outputs": [
    {
     "data": {
      "text/plain": [
       "Text(0.5,1,'Ibovespa Index Variation in August 2019')"
      ]
     },
     "execution_count": 8,
     "metadata": {},
     "output_type": "execute_result"
    },
    {
     "data": {
      "image/png": "[encoded data removed]",
      "text/plain": [
       "<Figure size 720x360 with 1 Axes>"
      ]
     },
     "metadata": {},
     "output_type": "display_data"
    }
   ],
   "source": [
    "viz_2 = sns.catplot(\n",
    "                    x=\"date\",\n",
    "                    y=\"perc_variation\",\n",
    "                    aspect=2.0,\n",
    "                    height=5,\n",
    "                    data=df_ibov_gp_year_month_2019_08)\n",
    "viz_2.set_axis_labels(\"Comercial Days\",\"Percentual Variation of Ibovespa Index\")\n",
    "viz_2.set_xticklabels(df_ibov_gp_year_month_2019_08.date.dt.day.unique())\n",
    "viz_2.ax.set_title(\"Ibovespa Index Variation in August 2019\")"
   ]
  }
 ],
 "metadata": {
  "kernelspec": {
   "display_name": "Python 3",
   "language": "python",
   "name": "python3"
  },
  "language_info": {
   "codemirror_mode": {
    "name": "ipython",
    "version": 3
   },
   "file_extension": ".py",
   "mimetype": "text/x-python",
   "name": "python",
   "nbconvert_exporter": "python",
   "pygments_lexer": "ipython3",
   "version": "3.6.8"
  }
 },
 "nbformat": 4,
 "nbformat_minor": 2
}
