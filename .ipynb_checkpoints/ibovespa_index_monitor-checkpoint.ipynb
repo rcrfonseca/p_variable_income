{
 "cells": [
  {
   "cell_type": "code",
   "execution_count": 1,
   "metadata": {},
   "outputs": [],
   "source": [
    "import pandas as pd\n",
    "import numpy as np\n",
    "import seaborn as sns\n",
    "%matplotlib inline"
   ]
  },
  {
   "cell_type": "code",
   "execution_count": 85,
   "metadata": {},
   "outputs": [],
   "source": [
    "data_ibov = pd.read_csv('./data/investing-indice-bovespa-2000-2019.csv')\n",
    "data_ibov=data_ibov.melt(id_vars={\"Data\",\"Vol.\",\"Var%\"},var_name=\"quote_period\",value_name=\"index_bov\")\n",
    "data_ibov.rename(columns={\"Vol.\":\"volume\",\"Data\":\"date\",\"Var%\":\"perc_variation\"},inplace=True)\n",
    "data_ibov = data_ibov[[\"date\",\"index_bov\",\"quote_period\",\"volume\",\"perc_variation\"]]\n",
    "df_ibov = pd.DataFrame(data_ibov)\n",
    "df_ibov[\"perc_variation\"]=df_ibov[\"perc_variation\"].str.replace(\"%\",\"\")\n",
    "df_ibov[\"date\"] = pd.to_datetime(df_ibov[\"date\"])\n",
    "df_ibov[\"index_bov\"]=df_ibov[\"index_bov\"].str.replace(\",\",\"\")\n",
    "df_ibov[\"index_bov\"]=pd.to_numeric(df_ibov[\"index_bov\"])"
   ]
  },
  {
   "cell_type": "code",
   "execution_count": 164,
   "metadata": {},
   "outputs": [
    {
     "data": {
      "text/html": [
       "<div>\n",
       "<style scoped>\n",
       "    .dataframe tbody tr th:only-of-type {\n",
       "        vertical-align: middle;\n",
       "    }\n",
       "\n",
       "    .dataframe tbody tr th {\n",
       "        vertical-align: top;\n",
       "    }\n",
       "\n",
       "    .dataframe thead th {\n",
       "        text-align: right;\n",
       "    }\n",
       "</style>\n",
       "<table border=\"1\" class=\"dataframe\">\n",
       "  <thead>\n",
       "    <tr style=\"text-align: right;\">\n",
       "      <th></th>\n",
       "      <th>date</th>\n",
       "      <th>index_bov</th>\n",
       "      <th>quote_period</th>\n",
       "      <th>volume</th>\n",
       "      <th>perc_variation</th>\n",
       "    </tr>\n",
       "  </thead>\n",
       "  <tbody>\n",
       "    <tr>\n",
       "      <th>0</th>\n",
       "      <td>2019-08-26</td>\n",
       "      <td>96.42960</td>\n",
       "      <td>Último</td>\n",
       "      <td>4,14M</td>\n",
       "      <td>-1,27</td>\n",
       "    </tr>\n",
       "    <tr>\n",
       "      <th>1</th>\n",
       "      <td>2019-08-23</td>\n",
       "      <td>97.66749</td>\n",
       "      <td>Último</td>\n",
       "      <td>5,67M</td>\n",
       "      <td>-2,34</td>\n",
       "    </tr>\n",
       "    <tr>\n",
       "      <th>2</th>\n",
       "      <td>2019-08-22</td>\n",
       "      <td>100.01128</td>\n",
       "      <td>Último</td>\n",
       "      <td>4,50M</td>\n",
       "      <td>-1,18</td>\n",
       "    </tr>\n",
       "    <tr>\n",
       "      <th>3</th>\n",
       "      <td>2019-08-21</td>\n",
       "      <td>101.20190</td>\n",
       "      <td>Último</td>\n",
       "      <td>5,97M</td>\n",
       "      <td>2,00</td>\n",
       "    </tr>\n",
       "    <tr>\n",
       "      <th>4</th>\n",
       "      <td>2019-08-20</td>\n",
       "      <td>99.22225</td>\n",
       "      <td>Último</td>\n",
       "      <td>5,24M</td>\n",
       "      <td>-0,25</td>\n",
       "    </tr>\n",
       "  </tbody>\n",
       "</table>\n",
       "</div>"
      ],
      "text/plain": [
       "        date  index_bov quote_period volume perc_variation\n",
       "0 2019-08-26   96.42960       Último  4,14M          -1,27\n",
       "1 2019-08-23   97.66749       Último  5,67M          -2,34\n",
       "2 2019-08-22  100.01128       Último  4,50M          -1,18\n",
       "3 2019-08-21  101.20190       Último  5,97M           2,00\n",
       "4 2019-08-20   99.22225       Último  5,24M          -0,25"
      ]
     },
     "execution_count": 164,
     "metadata": {},
     "output_type": "execute_result"
    }
   ],
   "source": [
    "df_ibov.head()"
   ]
  },
  {
   "cell_type": "code",
   "execution_count": 114,
   "metadata": {},
   "outputs": [],
   "source": [
    "year_month_2019_08 = (df_ibov.date.dt.year==2019)&(df_ibov.date.dt.month==8)\n",
    "df_ibov_gp_year_month_2019_08 = df_ibov[year_month_2019_08]\n",
    "df_ibov_gp_year_month_2019_08 = df_ibov_gp_year_month_2019_08.sort_values(by=\"date\",ascending=True)"
   ]
  },
  {
   "cell_type": "code",
   "execution_count": 166,
   "metadata": {},
   "outputs": [
    {
     "data": {
      "text/plain": [
       "Text(0.5,1,'Ibovespa Index in August 2019')"
      ]
     },
     "execution_count": 166,
     "metadata": {},
     "output_type": "execute_result"
    },
    {
     "data": {
      "image/png": "[encoded data removed]",
      "text/plain": [
       "<Figure size 799.875x360 with 1 Axes>"
      ]
     },
     "metadata": {},
     "output_type": "display_data"
    }
   ],
   "source": [
    "viz_1 = sns.catplot(x=\"date\",\n",
    "                    y=\"index_bov\",\n",
    "                    aspect=2.0,\n",
    "                    height=5,\n",
    "                    hue=\"quote_period\",\n",
    "                    data=df_ibov_gp_year_month_2019_08)\n",
    "viz_1.set_axis_labels(\"Comercial Days\",\"Ibovespa Index\")\n",
    "viz_1.set_xticklabels(df_ibov_gp_year_month_2019_08.date.dt.day.unique())\n",
    "viz_1.ax.set_title(\"Ibovespa Index in August 2019\")"
   ]
  },
  {
   "cell_type": "markdown",
   "metadata": {},
   "source": [
    "# Create Questions!\n",
    "1. Ibovespa Index by year, months and days, grouped\n",
    "1. Ibovespa index by days of year, weeks of year, days of week, compared by each year\n",
    "1. Correlate Ibovespa Index with volume and quotes period"
   ]
  }
 ],
 "metadata": {
  "kernelspec": {
   "display_name": "Python 3",
   "language": "python",
   "name": "python3"
  },
  "language_info": {
   "codemirror_mode": {
    "name": "ipython",
    "version": 3
   },
   "file_extension": ".py",
   "mimetype": "text/x-python",
   "name": "python",
   "nbconvert_exporter": "python",
   "pygments_lexer": "ipython3",
   "version": "3.6.8"
  }
 },
 "nbformat": 4,
 "nbformat_minor": 2
}
